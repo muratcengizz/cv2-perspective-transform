{
 "cells": [
  {
   "cell_type": "code",
   "execution_count": 2,
   "id": "92a29c3b-4854-4582-9c16-7fdc6ac6565a",
   "metadata": {},
   "outputs": [],
   "source": [
    "import cv2\n",
    "import numpy as np"
   ]
  },
  {
   "cell_type": "code",
   "execution_count": 3,
   "id": "046f4d5d-2a11-415f-ad0a-bb780339fcd8",
   "metadata": {},
   "outputs": [
    {
     "data": {
      "text/plain": [
       "-1"
      ]
     },
     "execution_count": 3,
     "metadata": {},
     "output_type": "execute_result"
    }
   ],
   "source": [
    "img = cv2.imread(filename='kart.png')\n",
    "cv2.imshow(winname='Orginal', mat=img)\n",
    "cv2.waitKey(0)"
   ]
  },
  {
   "cell_type": "code",
   "execution_count": 4,
   "id": "1863b331-236b-492b-86f6-1133521470fc",
   "metadata": {},
   "outputs": [],
   "source": [
    "# Resmin yeni boyutu\n",
    "width = 400\n",
    "height = 500"
   ]
  },
  {
   "cell_type": "code",
   "execution_count": 5,
   "id": "f744fc9a-4fcf-42f6-a52c-256c4374fd3c",
   "metadata": {},
   "outputs": [],
   "source": [
    "# pts1: Resimdeki kartın orjinal köşe indexleri\n",
    "# pts2: Resimdeki kartın döndürülmüş halinin indexleri\n",
    "pts1 = np.float32([[230, 1], [1, 472], [540, 150], [338, 617]])\n",
    "pts2 = np.float32([[10, 10], [10, height], [width, 10], [width, height]])"
   ]
  },
  {
   "cell_type": "code",
   "execution_count": 6,
   "id": "57f59beb-5ef9-41e9-a8de-963b7b20c645",
   "metadata": {},
   "outputs": [
    {
     "name": "stdout",
     "output_type": "stream",
     "text": [
      "[[ 9.62371479e-01  4.69296694e-01 -2.12098913e+02]\n",
      " [-4.21612535e-01  8.75392393e-01  1.05811315e+02]\n",
      " [-1.23898125e-04  7.89697479e-05  1.00000000e+00]]\n"
     ]
    }
   ],
   "source": [
    "matrix = cv2.getPerspectiveTransform(src=pts1, dst=pts2)\n",
    "print(matrix)"
   ]
  },
  {
   "cell_type": "code",
   "execution_count": 7,
   "id": "ef00c9d3-4267-451b-907f-9158286b0411",
   "metadata": {},
   "outputs": [
    {
     "data": {
      "text/plain": [
       "-1"
      ]
     },
     "execution_count": 7,
     "metadata": {},
     "output_type": "execute_result"
    }
   ],
   "source": [
    "# Dönüştürülmüş Resim\n",
    "imgOutput = cv2.warpPerspective(src=img, M=matrix, dsize=(width, height))\n",
    "cv2.imshow(winname='Donusturulmus Resim', mat=imgOutput)\n",
    "cv2.waitKey(0)"
   ]
  },
  {
   "cell_type": "markdown",
   "id": "4d58b432-98e8-4442-940c-be75c77bb511",
   "metadata": {},
   "source": [
    "## cv2.getPerspectiveTransform(src, dst)\n",
    "### src: Dönüştürme yapılacak noktaların koordinatlarını içeren Numpy dizisi. Dizinin şekli (4, 2) olmalıdır, yani dört noktanın (x,y) koordinatlarını içermelidir.\n",
    "### dst: İdeal olarak dönüştürme sonucunda elde edilmek istenen noktaların koordinatlarını içeren Numpy dizisi. Dizinin şekli (4,2) olmalıdır, yani dört noktanın (x,y) koordinatlarını içermelidir."
   ]
  },
  {
   "cell_type": "markdown",
   "id": "1d2f7a08-8dd3-4a60-963f-d0b61bcd2659",
   "metadata": {},
   "source": [
    "## cv2.warpPerspective(src, M, dsize, flags, borderMode, borderValue)\n",
    "### src: Dönüştürülecek görüntü. Numpy dizisi olarak temsil edilir.\n",
    "### M: Dönüşüm matrisi. Dönüştürme matrisi, cv2.getPerspectiveTransform() fonksiyonuyla elde edilir.\n",
    "### dsize: Çıktı görüntüsünün boyutu. Tuple olarak (genişlik, yükseklik) şeklinde belirtilir.\n",
    "### flags: Dönüşüm yöntemini belirten bir bayrak. Varsayılan olarak cv2.INTER_LINEAR olarak ayarlanabilir.\n",
    "### borderMode: Kenar piksellerinin nasıl işleneceğini belirten bir bayrak. Varsayılan olarak cv2.BORDER_CONSTANT ise kenar piksellerinin değeri. Varsayılan olarak 0 olarak ayarlanabilir."
   ]
  },
  {
   "cell_type": "code",
   "execution_count": 9,
   "id": "75dc46fc-3a5c-40c5-aab7-78c77558c2a9",
   "metadata": {},
   "outputs": [
    {
     "data": {
      "text/plain": [
       "-1"
      ]
     },
     "execution_count": 9,
     "metadata": {},
     "output_type": "execute_result"
    }
   ],
   "source": [
    "width = 500\n",
    "height = 600\n",
    "\n",
    "pts1 = np.float32([[230, 1], [1, 472], [540, 150], [338, 617]])\n",
    "pts2 = np.float32([[20, 20], [20, height-50], [width-50, 20], [width-50, height-50]])\n",
    "\n",
    "matrix = cv2.getPerspectiveTransform(src=pts1, dst=pts2)\n",
    "imgOutput2 = cv2.warpPerspective(src=img, M=matrix, dsize=(width, height))\n",
    "cv2.imshow(winname='Practice1', mat=imgOutput2)\n",
    "cv2.waitKey(0)"
   ]
  },
  {
   "cell_type": "code",
   "execution_count": 10,
   "id": "09ab11f7-b8b5-42e6-9df3-1c234183909d",
   "metadata": {},
   "outputs": [
    {
     "data": {
      "text/plain": [
       "(620, 544, 3)"
      ]
     },
     "execution_count": 10,
     "metadata": {},
     "output_type": "execute_result"
    }
   ],
   "source": [
    "img.shape"
   ]
  },
  {
   "cell_type": "code",
   "execution_count": 11,
   "id": "8cada3ec-6524-4d3f-afba-3153d44c7107",
   "metadata": {},
   "outputs": [
    {
     "data": {
      "text/plain": [
       "-1"
      ]
     },
     "execution_count": 11,
     "metadata": {},
     "output_type": "execute_result"
    }
   ],
   "source": [
    "width = 544\n",
    "height = 620\n",
    "\n",
    "pts1 = np.float32([[230, 1], [1, 472], [540, 150], [338, 617]])\n",
    "pts2 = np.float32([[20, 20], [20, height-30], [width-30, 20], [width-30, height-30]])\n",
    "\n",
    "matrix = cv2.getPerspectiveTransform(src=pts1, dst=pts2)\n",
    "imgOutput3 = cv2.warpPerspective(src=img, M=matrix, dsize=(width, height))\n",
    "cv2.imshow(winname='Practice2', mat=imgOutput3)\n",
    "cv2.waitKey(0)"
   ]
  }
 ],
 "metadata": {
  "kernelspec": {
   "display_name": "Python 3 (ipykernel)",
   "language": "python",
   "name": "python3"
  },
  "language_info": {
   "codemirror_mode": {
    "name": "ipython",
    "version": 3
   },
   "file_extension": ".py",
   "mimetype": "text/x-python",
   "name": "python",
   "nbconvert_exporter": "python",
   "pygments_lexer": "ipython3",
   "version": "3.9.12"
  }
 },
 "nbformat": 4,
 "nbformat_minor": 5
}
